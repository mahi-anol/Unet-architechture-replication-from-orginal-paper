{
 "cells": [
  {
   "cell_type": "code",
   "execution_count": 63,
   "id": "7e655bc0",
   "metadata": {},
   "outputs": [],
   "source": [
    "import torch\n",
    "import torch.nn as nn\n",
    "from torch.utils.data import Dataset, DataLoader"
   ]
  },
  {
   "cell_type": "code",
   "execution_count": 64,
   "id": "d1ddcc86",
   "metadata": {},
   "outputs": [],
   "source": [
    "class encoderBlocks(nn.Module):\n",
    "    def __init__(self,levelwise_filter_config):\n",
    "        super().__init__()\n",
    "        self.network_block=nn.Sequential(\n",
    "            nn.Conv2d(in_channels=levelwise_filter_config[0],out_channels=levelwise_filter_config[1],kernel_size=3,stride=1,padding=0),\n",
    "            nn.ReLU(),\n",
    "            nn.Conv2d(in_channels=levelwise_filter_config[1],out_channels=levelwise_filter_config[2],kernel_size=3,stride=1,padding=0),\n",
    "            nn.ReLU()\n",
    "        )\n",
    "        self.pool=nn.MaxPool2d(kernel_size=2,stride=2,padding=0)\n",
    "    def forward(self,x):\n",
    "        feature_maps=self.network_block(x)\n",
    "        max_pooled_output=self.pool(feature_maps)\n",
    "        return max_pooled_output,feature_maps"
   ]
  },
  {
   "cell_type": "code",
   "execution_count": 65,
   "id": "47a1d26f",
   "metadata": {},
   "outputs": [],
   "source": [
    "class encoder(nn.Module):\n",
    "    def __init__(self,no_of_blocks,block_wise_filter_config):\n",
    "        super().__init__()\n",
    "        assert no_of_blocks==len(block_wise_filter_config)\n",
    "        self.encoder=nn.ModuleList(\n",
    "            [encoderBlocks(block_wise_filter_config[i]) for i in range(no_of_blocks)]\n",
    "        )\n",
    "    def forward(self,x):\n",
    "        skip_inputs=[]\n",
    "        for block in self.encoder:\n",
    "            x,feature_maps=block(x)\n",
    "            skip_inputs.append(feature_maps)\n",
    "        return x,skip_inputs"
   ]
  },
  {
   "cell_type": "code",
   "execution_count": 66,
   "id": "9896fc36",
   "metadata": {},
   "outputs": [],
   "source": [
    "class bottleNeckLayer(nn.Module):\n",
    "    def __init__(self,bottleneck_filter_config):\n",
    "        super().__init__()\n",
    "        self.network=nn.Sequential(\n",
    "            nn.Conv2d(in_channels=bottleneck_filter_config[0],out_channels=bottleneck_filter_config[1],kernel_size=3,stride=1,padding=0),\n",
    "            nn.ReLU(),\n",
    "            nn.Conv2d(in_channels=bottleneck_filter_config[1],out_channels=bottleneck_filter_config[2],kernel_size=3,stride=1,padding=0),\n",
    "            nn.ReLU(),\n",
    "            nn.ConvTranspose2d(in_channels=bottleneck_filter_config[2],out_channels=bottleneck_filter_config[2]//2,kernel_size=2,stride=2,padding=0)\n",
    "        )\n",
    "        def forward(self,x):\n",
    "            bottleneck_output=self.network(x)\n",
    "            return bottleneck_output"
   ]
  },
  {
   "cell_type": "code",
   "execution_count": 67,
   "id": "b1b5af9f",
   "metadata": {},
   "outputs": [],
   "source": [
    "class decoderBlock(nn.Module):\n",
    "    def __init__(self,levelwise_filter_config):\n",
    "        super().__init__()\n",
    "        self.network=nn.Sequential(\n",
    "            nn.Conv2d(in_channels=levelwise_filter_config[0],out_channels=levelwise_filter_config[1],kernel_size=3,stride=1,padding=0),\n",
    "            nn.ReLU(),\n",
    "            nn.Conv2d(in_channels=levelwise_filter_config[1],out_channels=levelwise_filter_config[2],kernel_size=3,stride=1,padding=0),\n",
    "            nn.ReLU(),\n",
    "            nn.ConvTranspose2d(in_channels=levelwise_filter_config[2],out_channels=levelwise_filter_config[2]//2,kernel_size=2,stride=2,padding=0)\n",
    "        )\n",
    "    def forward(self,x,y):\n",
    "        ### assiming x is networks output and y is skip connections input.\n",
    "        #### batch_size,chanel,height,width\n",
    "        outputs_dim=x.shape[2]\n",
    "        all_side_cropping_pad=(y.shape[2]-outputs_dim)//2\n",
    "        y=y[:,:,all_side_cropping_pad:y.shape[2]-all_side_cropping_pad,all_side_cropping_pad:y.shape[3]-all_side_cropping_pad]\n",
    "        assert x.shape==y.shape\n",
    "        combined_input=torch.cat([x,y],dim=1)\n",
    "        output=self.network(combined_input)\n",
    "        return output\n"
   ]
  },
  {
   "cell_type": "code",
   "execution_count": 68,
   "id": "a913ad0b",
   "metadata": {},
   "outputs": [],
   "source": [
    "class decoder(nn.Module):\n",
    "    ## will need 3 decoder block\n",
    "    def __init__(self,no_of_blocks,block_wise_filter_config):\n",
    "        super().__init__()\n",
    "        self.decoder=nn.ModuleList(\n",
    "            [decoderBlock(block_wise_filter_config[i]) for i in range(no_of_blocks)]\n",
    "        )\n",
    "        self.final_block=nn.Sequential(\n",
    "            nn.Conv2d(in_channels=128,out_channels=64,kernel_size=3,stride=1,padding=0),\n",
    "            nn.ReLU(),\n",
    "            nn.Conv2d(in_channels=64,out_channels=64,kernel_size=3,stride=1,padding=0),\n",
    "            nn.ReLU(),\n",
    "            nn.Conv2d(in_channels=64,out_channels=2,kernel_size=1,stride=1,padding=0)\n",
    "        )\n",
    "    def forward(self,bottlenecks_output,skip_inputs):\n",
    "        for i,block in enumerate(self.decoder):\n",
    "            bottlenecks_output=block(bottlenecks_output,skip_inputs[-(i+1)])\n",
    "\n",
    "        final_output=self.final_block(bottlenecks_output,skip_inputs[0])\n",
    "        return final_output\n"
   ]
  },
  {
   "cell_type": "code",
   "execution_count": 69,
   "id": "8ef22451",
   "metadata": {},
   "outputs": [],
   "source": [
    "class Unet(nn.Module):\n",
    "    def __init__(self,config):\n",
    "        super().__init__()\n",
    "        self.encoder=encoder(config['encoder']['no_of_blocks'],config['encoder']['block_wise_filter_config'])\n",
    "        self.bottle_neck=bottleNeckLayer(config['bottleneck_filter_config'])\n",
    "        self.decoder=decoder(config['decoder']['no_of_blocks'],config['decoder']['block_wise_filter_config'])\n",
    "\n",
    "    def forward(self,x):\n",
    "        encoder_output,skip_inputs=self.encoder(x)\n",
    "        bottleneck_output=self.bottle_neck(encoder_output)\n",
    "        decoder_output=self.decoder(bottleneck_output,skip_inputs)\n",
    "        return decoder_output"
   ]
  },
  {
   "cell_type": "code",
   "execution_count": null,
   "id": "52168a3a",
   "metadata": {},
   "outputs": [],
   "source": []
  }
 ],
 "metadata": {
  "kernelspec": {
   "display_name": "base",
   "language": "python",
   "name": "python3"
  },
  "language_info": {
   "codemirror_mode": {
    "name": "ipython",
    "version": 3
   },
   "file_extension": ".py",
   "mimetype": "text/x-python",
   "name": "python",
   "nbconvert_exporter": "python",
   "pygments_lexer": "ipython3",
   "version": "3.12.7"
  }
 },
 "nbformat": 4,
 "nbformat_minor": 5
}
